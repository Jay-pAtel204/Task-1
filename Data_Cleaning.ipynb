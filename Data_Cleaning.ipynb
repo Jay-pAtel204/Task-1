{
 "cells": [
  {
   "cell_type": "code",
   "execution_count": 17,
   "id": "7563d2d1-b43d-4b30-91b3-c96f6691a9d6",
   "metadata": {},
   "outputs": [],
   "source": [
    "import pandas as pd\n",
    "import numpy as np\n",
    "\n",
    "df = pd.read_csv(\"C:/Users/Jay Patel/OneDrive/Desktop/Datasets/mall_customers.csv\")\n"
   ]
  },
  {
   "cell_type": "code",
   "execution_count": 18,
   "id": "fa41b436-571e-4d73-a62d-b6a1ca9f4053",
   "metadata": {},
   "outputs": [
    {
     "name": "stdout",
     "output_type": "stream",
     "text": [
      "Dataset Shape: (200, 5)\n",
      "\n",
      "First 5 rows:\n",
      "   CustomerID  Gender  Age  Annual Income (k$)  Spending Score (1-100)\n",
      "0           1    Male   19                  15                      39\n",
      "1           2    Male   21                  15                      81\n",
      "2           3  Female   20                  16                       6\n",
      "3           4  Female   23                  16                      77\n",
      "4           5  Female   31                  17                      40\n",
      "\n",
      "Dataset Info:\n",
      "<class 'pandas.core.frame.DataFrame'>\n",
      "RangeIndex: 200 entries, 0 to 199\n",
      "Data columns (total 5 columns):\n",
      " #   Column                  Non-Null Count  Dtype \n",
      "---  ------                  --------------  ----- \n",
      " 0   CustomerID              200 non-null    int64 \n",
      " 1   Gender                  200 non-null    object\n",
      " 2   Age                     200 non-null    int64 \n",
      " 3   Annual Income (k$)      200 non-null    int64 \n",
      " 4   Spending Score (1-100)  200 non-null    int64 \n",
      "dtypes: int64(4), object(1)\n",
      "memory usage: 7.9+ KB\n",
      "None\n",
      "\n",
      "Missing Values:\n",
      "CustomerID                0\n",
      "Gender                    0\n",
      "Age                       0\n",
      "Annual Income (k$)        0\n",
      "Spending Score (1-100)    0\n",
      "dtype: int64\n",
      "\n",
      "Duplicate Rows: 0\n"
     ]
    }
   ],
   "source": [
    "print(\"Dataset Shape:\", df.shape)\n",
    "print(\"\\nFirst 5 rows:\")\n",
    "print(df.head())\n",
    "print(\"\\nDataset Info:\")\n",
    "print(df.info())\n",
    "print(\"\\nMissing Values:\")\n",
    "print(df.isnull().sum())\n",
    "print(\"\\nDuplicate Rows:\", df.duplicated().sum())"
   ]
  },
  {
   "cell_type": "code",
   "execution_count": 19,
   "id": "0cfdb20c-3bfb-4f38-8c1f-a892608a8419",
   "metadata": {},
   "outputs": [],
   "source": [
    "df_clean = df.copy()"
   ]
  },
  {
   "cell_type": "code",
   "execution_count": 20,
   "id": "d9d8ed04-a09d-4e40-bf24-d1eac0b73e92",
   "metadata": {},
   "outputs": [
    {
     "name": "stdout",
     "output_type": "stream",
     "text": [
      "Standardized columns: ['customerid', 'gender', 'age', 'annual_income_(k$)', 'spending_score_(1-100)']\n"
     ]
    }
   ],
   "source": [
    "df_clean.columns = df_clean.columns.str.lower().str.replace(' ', '_')\n",
    "print(\"Standardized columns:\", df_clean.columns.tolist())"
   ]
  },
  {
   "cell_type": "code",
   "execution_count": 21,
   "id": "ae32e0ed-0c26-43cf-b660-f85f5c39d17f",
   "metadata": {},
   "outputs": [],
   "source": [
    "numerical_cols = ['age', 'annual_income_(k$)', 'spending_score_(1-100)']\n",
    "for col in numerical_cols:\n",
    "    if col in df_clean.columns:\n",
    "        df_clean[col] = df_clean[col].fillna(df_clean[col].median())"
   ]
  },
  {
   "cell_type": "code",
   "execution_count": 22,
   "id": "7901237a-e16f-47f0-9e9d-a0405ed9479c",
   "metadata": {},
   "outputs": [],
   "source": [
    "categorical_cols = ['gender']\n",
    "for col in categorical_cols:\n",
    "    if col in df_clean.columns:\n",
    "        df_clean[col] = df_clean[col].fillna(df_clean[col].mode()[0])"
   ]
  },
  {
   "cell_type": "code",
   "execution_count": 23,
   "id": "94053ef3-b6a5-4b53-ab22-f3e7675aa7ca",
   "metadata": {},
   "outputs": [],
   "source": [
    "initial_count = len(df_clean)\n",
    "df_clean = df_clean.drop_duplicates()\n",
    "duplicates_removed = initial_count - len(df_clean)"
   ]
  },
  {
   "cell_type": "code",
   "execution_count": 24,
   "id": "aa3ce24c-44b6-4e6c-884d-0dd5dd61c1ba",
   "metadata": {},
   "outputs": [],
   "source": [
    "if 'gender' in df_clean.columns:\n",
    "    df_clean['gender'] = df_clean['gender'].str.upper().str.strip()\n",
    "    # Standardize gender values\n",
    "    gender_mapping = {'F': 'FEMALE', 'M': 'MALE', 'FEMALE': 'FEMALE', 'MALE': 'MALE'}\n",
    "    df_clean['gender'] = df_clean['gender'].map(gender_mapping).fillna(df_clean['gender'])"
   ]
  },
  {
   "cell_type": "code",
   "execution_count": 25,
   "id": "4257bdf0-f7ce-4e85-a81f-bdbd1a2080e6",
   "metadata": {},
   "outputs": [],
   "source": [
    "if 'customer_id' in df_clean.columns:\n",
    "    df_clean['customer_id'] = df_clean['customer_id'].astype(str)"
   ]
  },
  {
   "cell_type": "code",
   "execution_count": 26,
   "id": "f7fc9298-fb46-4367-a1cd-3d5930f39ea5",
   "metadata": {},
   "outputs": [],
   "source": [
    "def handle_outliers(df, column):\n",
    "    Q1 = df[column].quantile(0.25)\n",
    "    Q3 = df[column].quantile(0.75)\n",
    "    IQR = Q3 - Q1\n",
    "    lower_bound = Q1 - 1.5 * IQR\n",
    "    upper_bound = Q3 + 1.5 * IQR\n",
    "    \n",
    "    df[column] = np.where(df[column] < lower_bound, lower_bound, df[column])\n",
    "    df[column] = np.where(df[column] > upper_bound, upper_bound, df[column])\n",
    "    return df"
   ]
  },
  {
   "cell_type": "code",
   "execution_count": 27,
   "id": "6a38d2ca-8717-464c-930e-17fd064488f3",
   "metadata": {},
   "outputs": [],
   "source": [
    "for col in numerical_cols:\n",
    "    if col in df_clean.columns:\n",
    "        df_clean = handle_outliers(df_clean, col)"
   ]
  },
  {
   "cell_type": "code",
   "execution_count": 28,
   "id": "fd6ae7b3-1dcb-4f87-b3e8-55408211bd7a",
   "metadata": {},
   "outputs": [],
   "source": [
    "if 'age' in df_clean.columns:\n",
    "    bins = [0, 25, 35, 45, 55, 100]\n",
    "    labels = ['18-25', '26-35', '36-45', '46-55', '55+']\n",
    "    df_clean['age_group'] = pd.cut(df_clean['age'], bins=bins, labels=labels, right=False)"
   ]
  },
  {
   "cell_type": "code",
   "execution_count": 29,
   "id": "678babc1-c8a2-440b-8284-b165c24bf045",
   "metadata": {},
   "outputs": [
    {
     "name": "stdout",
     "output_type": "stream",
     "text": [
      "\n",
      "=== CLEANING SUMMARY ===\n",
      "Original dataset shape: (200, 5)\n",
      "Cleaned dataset shape: (200, 6)\n",
      "Duplicate rows removed: 0\n",
      "Missing values after cleaning:\n",
      "customerid                0\n",
      "gender                    0\n",
      "age                       0\n",
      "annual_income_(k$)        0\n",
      "spending_score_(1-100)    0\n",
      "age_group                 0\n",
      "dtype: int64\n",
      "\n",
      "Data types after cleaning:\n",
      "customerid                   int64\n",
      "gender                      object\n",
      "age                        float64\n",
      "annual_income_(k$)         float64\n",
      "spending_score_(1-100)     float64\n",
      "age_group                 category\n",
      "dtype: object\n",
      "\n",
      "First 5 rows of cleaned data:\n",
      "   customerid  gender   age  annual_income_(k$)  spending_score_(1-100)  \\\n",
      "0           1    MALE  19.0                15.0                    39.0   \n",
      "1           2    MALE  21.0                15.0                    81.0   \n",
      "2           3  FEMALE  20.0                16.0                     6.0   \n",
      "3           4  FEMALE  23.0                16.0                    77.0   \n",
      "4           5  FEMALE  31.0                17.0                    40.0   \n",
      "\n",
      "  age_group  \n",
      "0     18-25  \n",
      "1     18-25  \n",
      "2     18-25  \n",
      "3     18-25  \n",
      "4     26-35  \n"
     ]
    }
   ],
   "source": [
    "print(\"\\n=== CLEANING SUMMARY ===\")\n",
    "print(f\"Original dataset shape: {df.shape}\")\n",
    "print(f\"Cleaned dataset shape: {df_clean.shape}\")\n",
    "print(f\"Duplicate rows removed: {duplicates_removed}\")\n",
    "print(f\"Missing values after cleaning:\")\n",
    "print(df_clean.isnull().sum())\n",
    "print(f\"\\nData types after cleaning:\")\n",
    "print(df_clean.dtypes)\n",
    "print(f\"\\nFirst 5 rows of cleaned data:\")\n",
    "print(df_clean.head())\n"
   ]
  },
  {
   "cell_type": "code",
   "execution_count": 30,
   "id": "44b091ac-226a-4a09-94a2-2a293adb76fa",
   "metadata": {},
   "outputs": [],
   "source": [
    "df_clean.to_csv('mall_customers_cleaned.csv', index=False)"
   ]
  },
  {
   "cell_type": "code",
   "execution_count": 31,
   "id": "a621b13a-54db-4a3a-bcbe-3fd444109bac",
   "metadata": {},
   "outputs": [
    {
     "name": "stdout",
     "output_type": "stream",
     "text": [
      "       customerid         age  annual_income_(k$)  spending_score_(1-100)\n",
      "count  200.000000  200.000000          200.000000              200.000000\n",
      "mean   100.500000   38.850000           60.517500               50.200000\n",
      "std     57.879185   13.969007           26.143551               25.823522\n",
      "min      1.000000   18.000000           15.000000                1.000000\n",
      "25%     50.750000   28.750000           41.500000               34.750000\n",
      "50%    100.500000   36.000000           61.500000               50.000000\n",
      "75%    150.250000   49.000000           78.000000               73.000000\n",
      "max    200.000000   70.000000          132.750000               99.000000\n"
     ]
    }
   ],
   "source": [
    "print(df_clean.describe())"
   ]
  },
  {
   "cell_type": "code",
   "execution_count": null,
   "id": "3b301880-3578-40fb-bf74-06c89d9ad928",
   "metadata": {},
   "outputs": [],
   "source": []
  }
 ],
 "metadata": {
  "kernelspec": {
   "display_name": "Python [conda env:base] *",
   "language": "python",
   "name": "conda-base-py"
  },
  "language_info": {
   "codemirror_mode": {
    "name": "ipython",
    "version": 3
   },
   "file_extension": ".py",
   "mimetype": "text/x-python",
   "name": "python",
   "nbconvert_exporter": "python",
   "pygments_lexer": "ipython3",
   "version": "3.13.5"
  }
 },
 "nbformat": 4,
 "nbformat_minor": 5
}
